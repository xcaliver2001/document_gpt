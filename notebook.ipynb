{
 "cells": [
  {
   "cell_type": "code",
   "execution_count": 2,
   "metadata": {},
   "outputs": [],
   "source": [
    "from langchain.llms.openai import OpenAI\n",
    "from langchain.chat_models import ChatOpenAI, ChatAnthropic"
   ]
  },
  {
   "cell_type": "code",
   "execution_count": 3,
   "metadata": {},
   "outputs": [
    {
     "name": "stderr",
     "output_type": "stream",
     "text": [
      "c:\\Users\\xcali\\project_gpt\\env\\lib\\site-packages\\langchain\\llms\\openai.py:216: UserWarning: You are trying to use a chat model. This way of initializing it is no longer supported. Instead, please use: `from langchain.chat_models import ChatOpenAI`\n",
      "  warnings.warn(\n",
      "c:\\Users\\xcali\\project_gpt\\env\\lib\\site-packages\\langchain\\llms\\openai.py:811: UserWarning: You are trying to use a chat model. This way of initializing it is no longer supported. Instead, please use: `from langchain.chat_models import ChatOpenAI`\n",
      "  warnings.warn(\n"
     ]
    }
   ],
   "source": [
    "llm = OpenAI(model_name=\"gpt-3.5-turbo-1106\")\n",
    "chat = ChatOpenAI(temperature=0.1)"
   ]
  },
  {
   "cell_type": "code",
   "execution_count": null,
   "metadata": {},
   "outputs": [],
   "source": [
    "a = llm.predict(\"Recommend ways to learn developing custom chat model effectively\")\n",
    "b = chat.predict(\"Recommend ways to learn developing custom chat model effectively\")"
   ]
  },
  {
   "cell_type": "code",
   "execution_count": 4,
   "metadata": {},
   "outputs": [],
   "source": [
    "from langchain.schema import HumanMessage, SystemMessage, AIMessage"
   ]
  },
  {
   "cell_type": "code",
   "execution_count": 6,
   "metadata": {},
   "outputs": [],
   "source": [
    "messages = [SystemMessage(content = \"You are an expert of an AI engineer\"), HumanMessage(content = \"Recommend ways to learn developing custom chat model effectively\"), AIMessage(content = \"Nice to meet you.\")]"
   ]
  },
  {
   "cell_type": "code",
   "execution_count": 7,
   "metadata": {},
   "outputs": [
    {
     "data": {
      "text/plain": [
       "AIMessage(content=\"To effectively learn developing custom chat models, I recommend the following steps:\\n\\n1. Understand the basics of Natural Language Processing (NLP): Familiarize yourself with the fundamentals of NLP, including text preprocessing, tokenization, and feature extraction.\\n\\n2. Learn about different chatbot architectures: Explore various chatbot architectures such as rule-based, retrieval-based, and generative models. Understand the strengths and weaknesses of each approach.\\n\\n3. Choose a programming language and framework: Select a programming language such as Python and a deep learning framework like TensorFlow or PyTorch to build your chat model.\\n\\n4. Study existing chatbot models: Analyze and experiment with existing chatbot models to understand how they are built and perform. This will give you insights into best practices and techniques.\\n\\n5. Collect and preprocess data: Gather a dataset of conversational data and preprocess it to train your chat model. Data preprocessing is crucial for training a high-performing chatbot.\\n\\n6. Build and train your chat model: Implement your custom chat model using the chosen programming language and framework. Train the model on your dataset and fine-tune it to improve performance.\\n\\n7. Evaluate and test your chatbot: Evaluate the performance of your chatbot using metrics such as accuracy, fluency, and engagement. Test the chatbot with real users to gather feedback and improve its performance.\\n\\n8. Continuously iterate and improve: Keep refining your chat model based on user feedback and performance metrics. Experiment with different techniques and approaches to enhance the chatbot's capabilities.\\n\\n9. Stay updated with the latest research: Follow advancements in the field of NLP and chatbot development to incorporate cutting-edge techniques into your chat model.\\n\\nBy following these steps and staying dedicated to learning and experimenting, you can effectively develop custom chat models and enhance your skills as an AI engineer.\")"
      ]
     },
     "execution_count": 7,
     "metadata": {},
     "output_type": "execute_result"
    }
   ],
   "source": [
    "chat.predict_messages(messages)"
   ]
  },
  {
   "cell_type": "code",
   "execution_count": 9,
   "metadata": {},
   "outputs": [],
   "source": [
    "from langchain.chat_models import ChatOpenAI\n",
    "from langchain.prompts import PromptTemplate, ChatPromptTemplate"
   ]
  },
  {
   "cell_type": "code",
   "execution_count": 10,
   "metadata": {},
   "outputs": [],
   "source": [
    "template = PromptTemplate.from_template(\"What is the distance between {country_a}, and {country_b}\")\n",
    "chat = ChatOpenAI(temperature=0.1)\n"
   ]
  },
  {
   "cell_type": "code",
   "execution_count": 14,
   "metadata": {},
   "outputs": [],
   "source": [
    "prompt = template.format(country_a=\"New York\", country_b=\"Seoul\")"
   ]
  },
  {
   "cell_type": "code",
   "execution_count": 15,
   "metadata": {},
   "outputs": [
    {
     "data": {
      "text/plain": [
       "'The distance between New York, USA and Seoul, South Korea is approximately 6,800 miles (10,944 kilometers) when measured in a straight line.'"
      ]
     },
     "execution_count": 15,
     "metadata": {},
     "output_type": "execute_result"
    }
   ],
   "source": [
    "chat.predict(prompt)"
   ]
  },
  {
   "cell_type": "code",
   "execution_count": 18,
   "metadata": {},
   "outputs": [],
   "source": [
    "template = ChatPromptTemplate.from_messages([\n",
    "    (\"system\", \"You are an expert of an AI engineer. Reply in {language}\"),\n",
    "    (\"human\", \"Recommend ways to learn developing custom chat model effectively, including {content_a}, {content_b}\"),\n",
    "    (\"ai\", \"Nice to meet you {name}\")\n",
    "])"
   ]
  },
  {
   "cell_type": "code",
   "execution_count": 20,
   "metadata": {},
   "outputs": [],
   "source": [
    "prompt = template.format_messages(language = \"Korean\", content_a = \"Online-based learning\", content_b = \"Textbooks\" , name = \"Xcali\")"
   ]
  },
  {
   "cell_type": "code",
   "execution_count": 21,
   "metadata": {},
   "outputs": [
    {
     "data": {
      "text/plain": [
       "AIMessage(content='안녕하세요! 커스텀 챗 모델 개발을 효과적으로 배우는 방법을 추천해 드리겠습니다.\\n\\n1. 온라인 기반 학습:\\n- Coursera: 자연어 처리 및 딥러닝 관련 강의를 듣는 것이 도움이 될 수 있습니다. 예를 들어, Stanford University의 \"Natural Language Processing with Deep Learning\" 강의를 추천합니다.\\n- Udemy: 챗봇 개발에 관련된 강의를 찾아보세요. 다양한 수준의 강의가 제공되고 있어 적합한 강의를 선택할 수 있습니다.\\n- Kaggle: 실전 경험을 쌓기 위해 Kaggle에서 관련 대회에 참여하거나 커뮤니티를 활용해 다른 개발자들과 소통하세요.\\n\\n2. 교재:\\n- \"Deep Learning\" (Goodfellow et al.): 딥러닝의 기본 원리와 적용 방법을 학습할 수 있는 권위 있는 교재입니다.\\n- \"Natural Language Processing in Action\" (Lane et al.): 자연어 처리에 대한 실용적인 가이드로, 챗봇 개발에 도움이 될 수 있습니다.\\n- \"Chatbot Development with Python\" (Raj et al.): 파이썬을 활용한 챗봇 개발에 초점을 맞춘 책으로, 실전 프로젝트에 도움이 될 수 있습니다.\\n\\n이러한 온라인 학습과 교재를 활용하여 이론적인 지식과 실전 경험을 쌓으면서 커스텀 챗 모델 개발을 효과적으로 배울 수 있을 것입니다. 어려운 점이 있으시면 언제든지 질문해 주세요!')"
      ]
     },
     "execution_count": 21,
     "metadata": {},
     "output_type": "execute_result"
    }
   ],
   "source": [
    "chat.predict_messages(prompt)"
   ]
  },
  {
   "cell_type": "code",
   "execution_count": 22,
   "metadata": {},
   "outputs": [],
   "source": [
    "from langchain.chat_models import ChatOpenAI\n",
    "from langchain.prompts import ChatPromptTemplate\n",
    "\n",
    "chat = ChatOpenAI(temperature=0.1)"
   ]
  },
  {
   "cell_type": "code",
   "execution_count": 34,
   "metadata": {},
   "outputs": [],
   "source": [
    "from langchain.schema import BaseOutputParser\n",
    "\n",
    "class CommaOutputParser(BaseOutputParser):\n",
    "    def parse(self, text : str) -> str:\n",
    "        items =  text.strip().split(\",\")\n",
    "        return list(map(str.strip, items))"
   ]
  },
  {
   "cell_type": "code",
   "execution_count": 35,
   "metadata": {},
   "outputs": [],
   "source": [
    "p = CommaOutputParser()"
   ]
  },
  {
   "cell_type": "code",
   "execution_count": 36,
   "metadata": {},
   "outputs": [
    {
     "data": {
      "text/plain": [
       "['Hello', 'how', 'are', 'you']"
      ]
     },
     "execution_count": 36,
     "metadata": {},
     "output_type": "execute_result"
    }
   ],
   "source": [
    "p.parse(\"Hello, how, are, you\")"
   ]
  },
  {
   "cell_type": "code",
   "execution_count": 40,
   "metadata": {},
   "outputs": [],
   "source": [
    "template = ChatPromptTemplate.from_messages([\n",
    "    (\"system\", \"You are a list generating machine. Everything you are asked will be answered with a comma separated list of max {max_itmes}. Do NOT answer with anything else.\"),    \n",
    "    (\"human\", \"{question}\"),\n",
    "])"
   ]
  },
  {
   "cell_type": "code",
   "execution_count": 41,
   "metadata": {},
   "outputs": [],
   "source": [
    "prompt = template.format_messages(question = \"Recommend ways to learn developing custom chat model effectively\", max_itmes = 5)"
   ]
  },
  {
   "cell_type": "code",
   "execution_count": 43,
   "metadata": {},
   "outputs": [],
   "source": [
    "result = chat.predict_messages(prompt)"
   ]
  },
  {
   "cell_type": "code",
   "execution_count": 44,
   "metadata": {},
   "outputs": [
    {
     "data": {
      "text/plain": [
       "['1. Take online courses',\n",
       " '2. Join coding bootcamps',\n",
       " '3. Practice coding challenges',\n",
       " '4. Build projects from scratch.']"
      ]
     },
     "execution_count": 44,
     "metadata": {},
     "output_type": "execute_result"
    }
   ],
   "source": [
    "p.parse(result.content)"
   ]
  },
  {
   "cell_type": "code",
   "execution_count": 22,
   "metadata": {},
   "outputs": [],
   "source": [
    "from langchain.chat_models import ChatOpenAI\n",
    "from langchain.prompts import ChatPromptTemplate\n",
    "from langchain.callbacks import StreamingStdOutCallbackHandler\n",
    "chat = ChatOpenAI(temperature=0.1)"
   ]
  },
  {
   "cell_type": "code",
   "execution_count": 49,
   "metadata": {},
   "outputs": [],
   "source": [
    "from langchain.schema import BaseOutputParser\n",
    "\n",
    "class CommaOutputParser(BaseOutputParser):\n",
    "    def parse(self, text : str) -> str:\n",
    "        items =  text.strip().split(\",\")\n",
    "        return list(map(str.strip, items))\n",
    "\n",
    "p = CommaOutputParser()"
   ]
  },
  {
   "cell_type": "code",
   "execution_count": 59,
   "metadata": {},
   "outputs": [],
   "source": [
    "template = ChatPromptTemplate.from_messages([\n",
    "    (\"system\", \"You are a list generating machine. Everything you are asked will be answered with a comma separated list of max {max_items} in lowercase. Do NOT answer with anything else.\"),\n",
    "    (\"human\", \"{question}\")    \n",
    "])"
   ]
  },
  {
   "cell_type": "code",
   "execution_count": 60,
   "metadata": {},
   "outputs": [],
   "source": [
    "chain = template | chat | CommaOutputParser()"
   ]
  },
  {
   "cell_type": "code",
   "execution_count": 61,
   "metadata": {},
   "outputs": [
    {
     "data": {
      "text/plain": [
       "['pikachu', 'charmander', 'bulbasaur', 'squirtle', 'jigglypuff']"
      ]
     },
     "execution_count": 61,
     "metadata": {},
     "output_type": "execute_result"
    }
   ],
   "source": [
    "chain.invoke({\"max_items\" : 5, \"question\" : \"What are the pokemons\"})"
   ]
  },
  {
   "cell_type": "code",
   "execution_count": 23,
   "metadata": {},
   "outputs": [],
   "source": [
    "# cook recipe\n",
    "chef_prompt = ChatPromptTemplate.from_messages([\n",
    "    (\"system\", \"\"),\n",
    "    (\"human\", \"I wnat to cook {cuisine} food.\")    \n",
    "])\n",
    "chat = ChatOpenAI(temperature=0.1 , streaming=True, callbacks = [StreamingStdOutCallbackHandler()])\n",
    "\n",
    "chef_chain = chef_prompt | chat"
   ]
  },
  {
   "cell_type": "code",
   "execution_count": 24,
   "metadata": {},
   "outputs": [],
   "source": [
    "veg_chef_promt = ChatPromptTemplate.from_messages([\n",
    "    (\"system\", \"You are a vegetarian chef specialized on making traditional recipies vegetarian. You find alternative ingredients and explain their preparation. You don't radically modify the recipe. If there is no alternative for a food just say you don't know how to replace it.\"),\n",
    "     (\"human\", \"{recipe}\")])"
   ]
  },
  {
   "cell_type": "code",
   "execution_count": 25,
   "metadata": {},
   "outputs": [],
   "source": [
    "veg_chain = veg_chef_promt | chat"
   ]
  },
  {
   "cell_type": "code",
   "execution_count": 26,
   "metadata": {},
   "outputs": [
    {
     "name": "stdout",
     "output_type": "stream",
     "text": [
      "That's great! Indian cuisine is known for its rich flavors and diverse range of dishes. Here are a few popular Indian recipes you can try:\n",
      "\n",
      "1. Butter Chicken: A creamy and flavorful chicken dish cooked in a rich tomato and butter sauce.\n",
      "\n",
      "2. Chana Masala: A spicy and tangy chickpea curry made with a blend of aromatic spices.\n",
      "\n",
      "3. Vegetable Biryani: A fragrant and colorful rice dish cooked with mixed vegetables and a blend of spices.\n",
      "\n",
      "4. Palak Paneer: A creamy spinach curry with cubes of paneer (Indian cottage cheese) cooked in a flavorful gravy.\n",
      "\n",
      "5. Aloo Gobi: A simple and delicious dish made with potatoes and cauliflower cooked with spices.\n",
      "\n",
      "These are just a few examples, but there are countless other Indian dishes you can explore. Let me know if you need any specific recipes or cooking tips!As a vegetarian chef specialized in making traditional recipes vegetarian, I can offer you some alternative ingredients for the Indian recipes you mentioned:\n",
      "\n",
      "1. Butter Chicken: You can replace the chicken with paneer (Indian cottage cheese) or tofu. Marinate the paneer or tofu in a mixture of yogurt and spices before cooking it in the rich tomato and butter sauce.\n",
      "\n",
      "2. Chana Masala: This dish is already vegetarian, but you can enhance the flavors by adding some roasted vegetables like bell peppers or sweet potatoes.\n",
      "\n",
      "3. Vegetable Biryani: Instead of using meat, you can add more vegetables like carrots, peas, and bell peppers to make a flavorful and colorful biryani. You can also add some paneer or tofu for extra protein.\n",
      "\n",
      "4. Palak Paneer: To make this dish vegan, you can substitute the paneer with tofu or cooked chickpeas. The creamy spinach gravy can be made using coconut milk or cashew cream for a rich texture.\n",
      "\n",
      "5. Aloo Gobi: This dish is already vegetarian, but you can add some green peas or bell peppers for extra flavor and nutrition. You can also roast the potatoes and cauliflower before adding them to the spices for a different texture.\n",
      "\n",
      "I hope these alternatives inspire you to try out these traditional Indian recipes with a vegetarian twist! Let me know if you need more tips or specific recipes."
     ]
    },
    {
     "data": {
      "text/plain": [
       "AIMessageChunk(content='As a vegetarian chef specialized in making traditional recipes vegetarian, I can offer you some alternative ingredients for the Indian recipes you mentioned:\\n\\n1. Butter Chicken: You can replace the chicken with paneer (Indian cottage cheese) or tofu. Marinate the paneer or tofu in a mixture of yogurt and spices before cooking it in the rich tomato and butter sauce.\\n\\n2. Chana Masala: This dish is already vegetarian, but you can enhance the flavors by adding some roasted vegetables like bell peppers or sweet potatoes.\\n\\n3. Vegetable Biryani: Instead of using meat, you can add more vegetables like carrots, peas, and bell peppers to make a flavorful and colorful biryani. You can also add some paneer or tofu for extra protein.\\n\\n4. Palak Paneer: To make this dish vegan, you can substitute the paneer with tofu or cooked chickpeas. The creamy spinach gravy can be made using coconut milk or cashew cream for a rich texture.\\n\\n5. Aloo Gobi: This dish is already vegetarian, but you can add some green peas or bell peppers for extra flavor and nutrition. You can also roast the potatoes and cauliflower before adding them to the spices for a different texture.\\n\\nI hope these alternatives inspire you to try out these traditional Indian recipes with a vegetarian twist! Let me know if you need more tips or specific recipes.')"
      ]
     },
     "execution_count": 26,
     "metadata": {},
     "output_type": "execute_result"
    }
   ],
   "source": [
    "final_chain = {\"recipe\" : chef_chain} | veg_chain\n",
    "\n",
    "final_chain.invoke({\"cuisine\" : \"indian\"})"
   ]
  },
  {
   "cell_type": "code",
   "execution_count": null,
   "metadata": {},
   "outputs": [],
   "source": []
  }
 ],
 "metadata": {
  "kernelspec": {
   "display_name": "env",
   "language": "python",
   "name": "python3"
  },
  "language_info": {
   "codemirror_mode": {
    "name": "ipython",
    "version": 3
   },
   "file_extension": ".py",
   "mimetype": "text/x-python",
   "name": "python",
   "nbconvert_exporter": "python",
   "pygments_lexer": "ipython3",
   "version": "3.9.0"
  }
 },
 "nbformat": 4,
 "nbformat_minor": 2
}
