{
 "cells": [
  {
   "cell_type": "code",
   "execution_count": 1,
   "metadata": {},
   "outputs": [
    {
     "name": "stderr",
     "output_type": "stream",
     "text": [
      "2024-12-19 06:45:25.211 \n",
      "  \u001b[33m\u001b[1mWarning:\u001b[0m to view this Streamlit app on a browser, run it with the following\n",
      "  command:\n",
      "\n",
      "    streamlit run c:\\Users\\xcali\\project_gpt\\env\\lib\\site-packages\\ipykernel_launcher.py [ARGUMENTS]\n"
     ]
    }
   ],
   "source": [
    "import streamlit as st\n",
    "from langchain.chat_models import ChatOpenAI\n",
    "from langchain.document_loaders import UnstructuredFileLoader\n",
    "from langchain.text_splitter import CharacterTextSplitter\n",
    "from langchain.vectorstores import FAISS\n",
    "from langchain.embeddings import OpenAIEmbeddings, CacheBackedEmbeddings\n",
    "from langchain.storage import LocalFileStore\n",
    "from langchain.chains import RetrievalQA\n",
    "\n",
    "# Streamlit Sidebar\n",
    "st.sidebar.title(\"Settings\")\n",
    "openai_api_key = st.sidebar.text_input(\"Enter your OpenAI API Key\", type=\"password\")\n",
    "github_repo_url = \"https://github.com/xcaliver2001/challenge_gpt\"\n",
    "st.sidebar.markdown(f\"[GitHub Repository]({github_repo_url})\")\n",
    "\n",
    "if not openai_api_key:\n",
    "    st.warning(\"Please enter your OpenAI API Key to proceed.\")\n",
    "    st.stop()\n",
    "\n",
    "# Streamlit Main App\n",
    "st.title(\"RAG Pipeline with LangChain\")\n",
    "uploaded_file = st.file_uploader(\"Upload a Document\", type=[\"txt\"])\n",
    "\n",
    "if uploaded_file:\n",
    "    document_path = f\"./temp/{uploaded_file.name}\"\n",
    "    with open(document_path, \"wb\") as f:\n",
    "        f.write(uploaded_file.getbuffer())\n",
    "\n",
    "    # Initialize Components\n",
    "    llm = ChatOpenAI(api_key=openai_api_key)\n",
    "    cached_dir = LocalFileStore('./cache/')\n",
    "\n",
    "    splitter = CharacterTextSplitter.from_tiktoken_encoder(\n",
    "        separator='\\n',\n",
    "        chunk_size=600,\n",
    "        chunk_overlap=100,\n",
    "    )\n",
    "\n",
    "    loader = UnstructuredFileLoader(document_path)\n",
    "    docs = loader.load_and_split(text_splitter=splitter)\n",
    "\n",
    "    embeddings = OpenAIEmbeddings(api_key=openai_api_key)\n",
    "    cached_embeddings = CacheBackedEmbeddings.from_bytes_store(embeddings, cached_dir)\n",
    "    vectorstore = FAISS.from_documents(docs, cached_embeddings)\n",
    "\n",
    "    chain = RetrievalQA.from_chain_type(\n",
    "        llm=llm,\n",
    "        chain_type='refine',\n",
    "        retriever=vectorstore.as_retriever(),\n",
    "    )\n",
    "\n",
    "    # Chat Interface\n",
    "    st.subheader(\"Chat with Your Document\")\n",
    "    if \"chat_history\" not in st.session_state:\n",
    "        st.session_state.chat_history = []\n",
    "\n",
    "    question = st.text_input(\"Enter your question\")\n",
    "\n",
    "    if question:\n",
    "        answer = chain.run(question)\n",
    "        st.session_state.chat_history.append((question, answer))\n",
    "\n",
    "    for q, a in st.session_state.chat_history:\n",
    "        st.markdown(f\"**Question:** {q}\")\n",
    "        st.markdown(f\"**Answer:** {a}\")\n",
    "else:\n",
    "    st.info(\"Please upload a document to start.\")\n"
   ]
  },
  {
   "cell_type": "code",
   "execution_count": null,
   "metadata": {},
   "outputs": [],
   "source": []
  }
 ],
 "metadata": {
  "kernelspec": {
   "display_name": "env",
   "language": "python",
   "name": "python3"
  },
  "language_info": {
   "codemirror_mode": {
    "name": "ipython",
    "version": 3
   },
   "file_extension": ".py",
   "mimetype": "text/x-python",
   "name": "python",
   "nbconvert_exporter": "python",
   "pygments_lexer": "ipython3",
   "version": "3.9.0"
  }
 },
 "nbformat": 4,
 "nbformat_minor": 2
}
